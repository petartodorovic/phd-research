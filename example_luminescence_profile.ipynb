{
 "cells": [
  {
   "cell_type": "code",
   "execution_count": null,
   "metadata": {},
   "outputs": [],
   "source": []
  },
  {
   "cell_type": "code",
   "execution_count": 1,
   "metadata": {},
   "outputs": [],
   "source": [
    "import os\n",
    "import numpy as np\n",
    "import pandas as pd\n",
    "# os.chdir(os.path.join(os.getcwd(),'Luminescence Curve Generation'))\n",
    "from LuminescenceCurveGeneration import *"
   ]
  },
  {
   "cell_type": "code",
   "execution_count": 2,
   "metadata": {},
   "outputs": [
    {
     "ename": "NameError",
     "evalue": "name 'LuminescenceSpectra' is not defined",
     "output_type": "error",
     "traceback": [
      "\u001b[0;31m---------------------------------------------------------------------------\u001b[0m",
      "\u001b[0;31mNameError\u001b[0m                                 Traceback (most recent call last)",
      "\u001b[1;32m/Users/petartodorovic/Documents/Programming/PhD Code/phd-research/example_luminescence_profile.ipynb Cell 3'\u001b[0m in \u001b[0;36m<cell line: 1>\u001b[0;34m()\u001b[0m\n\u001b[0;32m----> <a href='vscode-notebook-cell:/Users/petartodorovic/Documents/Programming/PhD%20Code/phd-research/example_luminescence_profile.ipynb#ch0000001?line=0'>1</a>\u001b[0m spectra \u001b[39m=\u001b[39m LuminescenceSpectra(center_wv\u001b[39m=\u001b[39m\u001b[39m475\u001b[39m)  \u001b[39m# Creates spectra at 475nm\u001b[39;00m\n\u001b[1;32m      <a href='vscode-notebook-cell:/Users/petartodorovic/Documents/Programming/PhD%20Code/phd-research/example_luminescence_profile.ipynb#ch0000001?line=1'>2</a>\u001b[0m df \u001b[39m=\u001b[39m spectra\u001b[39m.\u001b[39mgenerate_spectra()  \u001b[39m# Generate the data\u001b[39;00m\n\u001b[1;32m      <a href='vscode-notebook-cell:/Users/petartodorovic/Documents/Programming/PhD%20Code/phd-research/example_luminescence_profile.ipynb#ch0000001?line=2'>3</a>\u001b[0m r1, r2 \u001b[39m=\u001b[39m spectra\u001b[39m.\u001b[39mcalculate_roots()  \u001b[39m# Get FWHM points\u001b[39;00m\n",
      "\u001b[0;31mNameError\u001b[0m: name 'LuminescenceSpectra' is not defined"
     ]
    }
   ],
   "source": [
    "spectra = LuminescenceSpectra(center_wv=475)  # Creates spectra at 475nm\n",
    "df = spectra.generate_spectra()  # Generate the data\n",
    "r1, r2 = spectra.calculate_roots()  # Get FWHM points\n",
    "spectra.plot_spectra(r1, r2, save_fig=False) "
   ]
  },
  {
   "cell_type": "code",
   "execution_count": 3,
   "metadata": {},
   "outputs": [
    {
     "ename": "NameError",
     "evalue": "name 'PlotSettings' is not defined",
     "output_type": "error",
     "traceback": [
      "\u001b[0;31m---------------------------------------------------------------------------\u001b[0m",
      "\u001b[0;31mNameError\u001b[0m                                 Traceback (most recent call last)",
      "\u001b[1;32m/Users/petartodorovic/Documents/Programming/PhD Code/phd-research/example_luminescence_profile.ipynb Cell 4'\u001b[0m in \u001b[0;36m<cell line: 2>\u001b[0;34m()\u001b[0m\n\u001b[1;32m      <a href='vscode-notebook-cell:/Users/petartodorovic/Documents/Programming/PhD%20Code/phd-research/example_luminescence_profile.ipynb#ch0000002?line=0'>1</a>\u001b[0m \u001b[39m# Custom settings\u001b[39;00m\n\u001b[0;32m----> <a href='vscode-notebook-cell:/Users/petartodorovic/Documents/Programming/PhD%20Code/phd-research/example_luminescence_profile.ipynb#ch0000002?line=1'>2</a>\u001b[0m custom_settings \u001b[39m=\u001b[39m PlotSettings(\n\u001b[1;32m      <a href='vscode-notebook-cell:/Users/petartodorovic/Documents/Programming/PhD%20Code/phd-research/example_luminescence_profile.ipynb#ch0000002?line=2'>3</a>\u001b[0m    figsize\u001b[39m=\u001b[39m(\u001b[39m10\u001b[39m, \u001b[39m8\u001b[39m),\n\u001b[1;32m      <a href='vscode-notebook-cell:/Users/petartodorovic/Documents/Programming/PhD%20Code/phd-research/example_luminescence_profile.ipynb#ch0000002?line=3'>4</a>\u001b[0m    font_size\u001b[39m=\u001b[39m{\u001b[39m'\u001b[39m\u001b[39mticks\u001b[39m\u001b[39m'\u001b[39m: \u001b[39m12\u001b[39m, \u001b[39m'\u001b[39m\u001b[39mlabels\u001b[39m\u001b[39m'\u001b[39m: \u001b[39m16\u001b[39m, \u001b[39m'\u001b[39m\u001b[39mtitle\u001b[39m\u001b[39m'\u001b[39m: \u001b[39m18\u001b[39m},\n\u001b[1;32m      <a href='vscode-notebook-cell:/Users/petartodorovic/Documents/Programming/PhD%20Code/phd-research/example_luminescence_profile.ipynb#ch0000002?line=4'>5</a>\u001b[0m    y_limits\u001b[39m=\u001b[39m(\u001b[39m-\u001b[39m\u001b[39m0.002\u001b[39m, \u001b[39m1.05\u001b[39m)\n\u001b[1;32m      <a href='vscode-notebook-cell:/Users/petartodorovic/Documents/Programming/PhD%20Code/phd-research/example_luminescence_profile.ipynb#ch0000002?line=5'>6</a>\u001b[0m )\n\u001b[1;32m      <a href='vscode-notebook-cell:/Users/petartodorovic/Documents/Programming/PhD%20Code/phd-research/example_luminescence_profile.ipynb#ch0000002?line=7'>8</a>\u001b[0m \u001b[39m# Advanced usage with custom wavelength range and settings\u001b[39;00m\n\u001b[1;32m      <a href='vscode-notebook-cell:/Users/petartodorovic/Documents/Programming/PhD%20Code/phd-research/example_luminescence_profile.ipynb#ch0000002?line=8'>9</a>\u001b[0m spectra2 \u001b[39m=\u001b[39m LuminescenceSpectra(\n\u001b[1;32m     <a href='vscode-notebook-cell:/Users/petartodorovic/Documents/Programming/PhD%20Code/phd-research/example_luminescence_profile.ipynb#ch0000002?line=9'>10</a>\u001b[0m    center_wv\u001b[39m=\u001b[39m\u001b[39m540\u001b[39m,\n\u001b[1;32m     <a href='vscode-notebook-cell:/Users/petartodorovic/Documents/Programming/PhD%20Code/phd-research/example_luminescence_profile.ipynb#ch0000002?line=10'>11</a>\u001b[0m    fwhm\u001b[39m=\u001b[39m\u001b[39m40\u001b[39m,\n\u001b[1;32m     <a href='vscode-notebook-cell:/Users/petartodorovic/Documents/Programming/PhD%20Code/phd-research/example_luminescence_profile.ipynb#ch0000002?line=11'>12</a>\u001b[0m    wavelength_range\u001b[39m=\u001b[39m(\u001b[39m400\u001b[39m, \u001b[39m800\u001b[39m),\n\u001b[1;32m     <a href='vscode-notebook-cell:/Users/petartodorovic/Documents/Programming/PhD%20Code/phd-research/example_luminescence_profile.ipynb#ch0000002?line=12'>13</a>\u001b[0m    num_points\u001b[39m=\u001b[39m\u001b[39m500\u001b[39m\n\u001b[1;32m     <a href='vscode-notebook-cell:/Users/petartodorovic/Documents/Programming/PhD%20Code/phd-research/example_luminescence_profile.ipynb#ch0000002?line=13'>14</a>\u001b[0m )\n",
      "\u001b[0;31mNameError\u001b[0m: name 'PlotSettings' is not defined"
     ]
    }
   ],
   "source": [
    "# Custom settings\n",
    "custom_settings = PlotSettings(\n",
    "   figsize=(10, 8),\n",
    "   font_size={'ticks': 12, 'labels': 16, 'title': 18},\n",
    "   y_limits=(-0.002, 1.05)\n",
    ")\n",
    "\n",
    "# Advanced usage with custom wavelength range and settings\n",
    "spectra2 = LuminescenceSpectra(\n",
    "   center_wv=540,\n",
    "   fwhm=40,\n",
    "   wavelength_range=(400, 800),\n",
    "   num_points=500\n",
    ")\n",
    "df2 = spectra2.generate_spectra()\n",
    "r1, r2 = spectra2.calculate_roots()\n",
    "spectra2.plot_spectra(r1, r2, settings=custom_settings, save_fig=False)"
   ]
  },
  {
   "cell_type": "code",
   "execution_count": null,
   "metadata": {},
   "outputs": [],
   "source": []
  }
 ],
 "metadata": {
  "kernelspec": {
   "display_name": "Python 3.10.5 64-bit",
   "language": "python",
   "name": "python3"
  },
  "language_info": {
   "codemirror_mode": {
    "name": "ipython",
    "version": 3
   },
   "file_extension": ".py",
   "mimetype": "text/x-python",
   "name": "python",
   "nbconvert_exporter": "python",
   "pygments_lexer": "ipython3",
   "version": "3.10.5"
  },
  "orig_nbformat": 4,
  "vscode": {
   "interpreter": {
    "hash": "aee8b7b246df8f9039afb4144a1f6fd8d2ca17a180786b69acc140d282b71a49"
   }
  }
 },
 "nbformat": 4,
 "nbformat_minor": 2
}
