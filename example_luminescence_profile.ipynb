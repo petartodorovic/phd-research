{
 "cells": [
  {
   "cell_type": "code",
   "execution_count": 4,
   "metadata": {},
   "outputs": [
    {
     "ename": "ModuleNotFoundError",
     "evalue": "No module named 'Luminescence_Curve_Generation'",
     "output_type": "error",
     "traceback": [
      "\u001b[0;31m---------------------------------------------------------------------------\u001b[0m",
      "\u001b[0;31mModuleNotFoundError\u001b[0m                       Traceback (most recent call last)",
      "\u001b[1;32m/Users/petartodorovic/Documents/Programming/PhD Code/phd-research/example_luminescence_profile.ipynb Cell 1'\u001b[0m in \u001b[0;36m<cell line: 5>\u001b[0;34m()\u001b[0m\n\u001b[1;32m      <a href='vscode-notebook-cell:/Users/petartodorovic/Documents/Programming/PhD%20Code/phd-research/example_luminescence_profile.ipynb#ch0000000?line=2'>3</a>\u001b[0m \u001b[39mimport\u001b[39;00m \u001b[39mpandas\u001b[39;00m \u001b[39mas\u001b[39;00m \u001b[39mpd\u001b[39;00m\n\u001b[1;32m      <a href='vscode-notebook-cell:/Users/petartodorovic/Documents/Programming/PhD%20Code/phd-research/example_luminescence_profile.ipynb#ch0000000?line=3'>4</a>\u001b[0m \u001b[39m# os.chdir(os.path.join(os.getcwd(),'Luminescence Curve Generation'))\u001b[39;00m\n\u001b[0;32m----> <a href='vscode-notebook-cell:/Users/petartodorovic/Documents/Programming/PhD%20Code/phd-research/example_luminescence_profile.ipynb#ch0000000?line=4'>5</a>\u001b[0m \u001b[39mfrom\u001b[39;00m \u001b[39mLuminescence_Curve_Generation\u001b[39;00m \u001b[39mimport\u001b[39;00m \u001b[39m*\u001b[39m\n",
      "\u001b[0;31mModuleNotFoundError\u001b[0m: No module named 'Luminescence_Curve_Generation'"
     ]
    }
   ],
   "source": [
    "import os\n",
    "import numpy as np\n",
    "import pandas as pd\n",
    "# os.chdir(os.path.join(os.getcwd(),'Luminescence Curve Generation'))\n",
    "from Luminescence_Curve_Generation import *"
   ]
  },
  {
   "cell_type": "code",
   "execution_count": null,
   "metadata": {},
   "outputs": [],
   "source": [
    "spectra = LuminescenceSpectra(center_wv=475)  # Creates spectra at 475nm\n",
    "df = spectra.generate_spectra()  # Generate the data\n",
    "r1, r2 = spectra.calculate_roots()  # Get FWHM points\n",
    "spectra.plot_spectra(r1, r2, save_fig=False) "
   ]
  },
  {
   "cell_type": "code",
   "execution_count": null,
   "metadata": {},
   "outputs": [],
   "source": [
    "# Custom settings\n",
    "custom_settings = PlotSettings(\n",
    "   figsize=(10, 8),\n",
    "   font_size={'ticks': 12, 'labels': 16, 'title': 18},\n",
    "   y_limits=(-0.002, 1.05)\n",
    ")\n",
    "\n",
    "# Advanced usage with custom wavelength range and settings\n",
    "spectra2 = LuminescenceSpectra(\n",
    "   center_wv=540,\n",
    "   fwhm=40,\n",
    "   wavelength_range=(400, 800),\n",
    "   num_points=500\n",
    ")\n",
    "df2 = spectra2.generate_spectra()\n",
    "r1, r2 = spectra2.calculate_roots()\n",
    "spectra2.plot_spectra(r1, r2, settings=custom_settings, save_fig=False)"
   ]
  },
  {
   "cell_type": "code",
   "execution_count": null,
   "metadata": {},
   "outputs": [],
   "source": []
  }
 ],
 "metadata": {
  "kernelspec": {
   "display_name": "Python 3.10.5 64-bit",
   "language": "python",
   "name": "python3"
  },
  "language_info": {
   "codemirror_mode": {
    "name": "ipython",
    "version": 3
   },
   "file_extension": ".py",
   "mimetype": "text/x-python",
   "name": "python",
   "nbconvert_exporter": "python",
   "pygments_lexer": "ipython3",
   "version": "3.10.5"
  },
  "orig_nbformat": 4,
  "vscode": {
   "interpreter": {
    "hash": "aee8b7b246df8f9039afb4144a1f6fd8d2ca17a180786b69acc140d282b71a49"
   }
  }
 },
 "nbformat": 4,
 "nbformat_minor": 2
}
